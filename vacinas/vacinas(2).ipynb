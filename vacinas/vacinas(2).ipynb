{
 "cells": [
  {
   "cell_type": "code",
   "execution_count": 1,
   "metadata": {},
   "outputs": [],
   "source": [
    "%defaultDatasource jdbc:h2:mem:db"
   ]
  },
  {
   "cell_type": "markdown",
   "metadata": {},
   "source": [
    "# Analisando o Uso de Medicamentos\n",
    "* Esta tarefa analisará os dados conforme três abordagens: análise do comportamento estatístico; análise de correlação entre pares; análise de correlação de variáveis.\n",
    "* A partir dos arquivos CSV que estão no diretórios /data/nhanes considere as seguintes tabelas SQL."
   ]
  },
  {
   "cell_type": "code",
   "execution_count": 5,
   "metadata": {},
   "outputs": [
    {
     "ename": "org.h2.jdbc.JdbcSQLException",
     "evalue": " Column \"PERIODO\" not found; SQL statement",
     "output_type": "error",
     "traceback": [
      "\u001b[1;31morg.h2.jdbc.JdbcSQLException: Column \"PERIODO\" not found; SQL statement:\u001b[0;0m",
      "\u001b[1;31mCREATE TABLE Antivax_Trends (\u001b[0;0m",
      "\u001b[1;31mPeriodo INTEGER,\u001b[0;0m",
      "\u001b[1;31mantivax INTEGER,\u001b[0;0m",
      "\u001b[1;31mvacina_causa_autismo INTEGER,\u001b[0;0m",
      "\u001b[1;31manti_vacina INTEGER,\u001b[0;0m",
      "\u001b[1;31manti_vacinacao INTEGER,\u001b[0;0m",
      "\u001b[1;31mSoma INTEGER,\u001b[0;0m",
      "\u001b[1;31mPopularidade INTEGER,\u001b[0;0m",
      "\u001b[1;31mPRIMARY KEY(Periodo)\u001b[0;0m",
      "\u001b[1;31m) AS SELECT\u001b[0;0m",
      "\u001b[1;31mPeriodo,\u001b[0;0m",
      "\u001b[1;31mantivax,\u001b[0;0m",
      "\u001b[1;31mvacina-causa-autismo,\u001b[0;0m",
      "\u001b[1;31manti-vacina,\u001b[0;0m",
      "\u001b[1;31manti-vacinacao,\u001b[0;0m",
      "\u001b[1;31mSoma,\u001b[0;0m",
      "\u001b[1;31mPopularidade\u001b[0;0m",
      "\u001b[1;31mFROM CSVREAD('../data/vacinas/trends-antivax.csv') [42122-197]\u001b[0;0m"
     ]
    }
   ],
   "source": [
    "DROP TABLE IF EXISTS Antivax_Trends;\n",
    "\n",
    "CREATE TABLE Antivax_Trends (\n",
    "    Periodo INTEGER,\n",
    "    antivax INTEGER,\n",
    "    vacina_causa_autismo INTEGER,\n",
    "    anti_vacina INTEGER,\n",
    "    anti_vacinacao INTEGER,\n",
    "    Soma INTEGER,\n",
    "    Popularidade INTEGER,\n",
    "    PRIMARY KEY(Periodo)\n",
    ") AS SELECT\n",
    "    Periodo,\n",
    "    antivax,\n",
    "    vacina-causa-autismo,\n",
    "    anti-vacina,\n",
    "    anti-vacinacao,\n",
    "    Soma,\n",
    "    Popularidade\n",
    "FROM CSVREAD('../data/vacinas/trends-antivax.csv');\n",
    "\n",
    "CREATE TABLE Immunization_Estimates (\n",
    "    Id INTEGER NOT NULL,\n",
    "    unicef_region VARCHAR,\n",
    "    iso3 VARCHAR,\n",
    "    country VARCHAR,\n",
    "    vaccine VARCHAR,\n",
    "    Ano INTEGER,\n",
    "    Taxa INTEGER,\n",
    "    PRMARY KEY(Id)\n",
    ")AS SELECT\n",
    "    Id,\n",
    "    Unicef_region,\n",
    "    Iso3,\n",
    "    Country,\n",
    "    Vaccine,\n",
    "    Ano,\n",
    "    Taxa\n",
    "FROM CSVREAD('../data/vacinas/Immunization-estimates-2018-Brasil.csv')\n"
   ]
  },
  {
   "cell_type": "code",
   "execution_count": 3,
   "metadata": {},
   "outputs": [
    {
     "data": {
      "application/vnd.jupyter.widget-view+json": {
       "model_id": "9f314c90-51d0-4076-bc3b-0a8c4c97062c",
       "version_major": 2,
       "version_minor": 0
      },
      "method": "display_data"
     },
     "metadata": {},
     "output_type": "display_data"
    },
    {
     "data": {
      "application/vnd.jupyter.widget-view+json": {
       "model_id": "03989c01-6a37-481f-8689-2b7f11e9cf7c",
       "version_major": 2,
       "version_minor": 0
      },
      "method": "display_data"
     },
     "metadata": {},
     "output_type": "display_data"
    },
    {
     "data": {
      "application/vnd.jupyter.widget-view+json": {
       "model_id": "2080cd6a-0692-4f8c-ac69-322d0ed2980a",
       "version_major": 2,
       "version_minor": 0
      },
      "method": "display_data"
     },
     "metadata": {},
     "output_type": "display_data"
    }
   ],
   "source": [
    "SELECT * FROM Pessoa;\n",
    "SELECT * FROM Medicamento;\n",
    "SELECT * FROM UsoMedicamento;"
   ]
  },
  {
   "cell_type": "markdown",
   "metadata": {},
   "source": [
    "# I. Análise de comportamento estatístico"
   ]
  },
  {
   "cell_type": "markdown",
   "metadata": {},
   "source": [
    "## 1) Contabilizando o uso de medicamentos\n",
    "\n",
    "* Liste o nome de todos os medicamentos e a quantidade de pessoas que usa cada um deles."
   ]
  },
  {
   "cell_type": "code",
   "execution_count": 6,
   "metadata": {},
   "outputs": [
    {
     "data": {
      "application/vnd.jupyter.widget-view+json": {
       "model_id": "143ef21d-8af7-44c7-8111-d6ead8056895",
       "version_major": 2,
       "version_minor": 0
      },
      "method": "display_data"
     },
     "metadata": {},
     "output_type": "display_data"
    }
   ],
   "source": [
    "SELECT Med.NomeMedicamento, COUNT(*) \n",
    "FROM Medicamento Med, UsoMedicamento Uso, Pessoa \n",
    "WHERE Med.Codigo = Uso.CodMedicamento AND Pessoa.Id = Uso.IdPessoa \n",
    "GROUP BY Med.NomeMedicamento"
   ]
  },
  {
   "cell_type": "markdown",
   "metadata": {},
   "source": [
    "## 2) Medicamento mais usado com VIEW\n",
    "\n",
    "* Informe o código do medicamento mais usado: fazendo uso de VIEW."
   ]
  },
  {
   "cell_type": "code",
   "execution_count": 8,
   "metadata": {},
   "outputs": [
    {
     "data": {
      "text/plain": [
       "d00732"
      ]
     },
     "execution_count": 8,
     "metadata": {},
     "output_type": "execute_result"
    }
   ],
   "source": [
    "CREATE VIEW IF NOT EXISTS EXEMPLO AS\n",
    "SELECT Med.Codigo, COUNT(*) AS qtdTratados\n",
    "FROM Medicamento Med, UsoMedicamento Uso, Pessoa\n",
    "WHERE Med.Codigo = Uso.CodMedicamento AND Pessoa.Id = Uso.IdPessoa\n",
    "GROUP BY Med.Codigo;\n",
    "\n",
    "SELECT Exemplo.Codigo\n",
    "FROM EXEMPLO\n",
    "WHERE Exemplo.QtdTratados = (SELECT MAX(Exemplo.QtdTratados) FROM EXEMPLO);"
   ]
  },
  {
   "cell_type": "markdown",
   "metadata": {},
   "source": [
    "## 3) Medicamento mais usado sem VIEW\n",
    "\n",
    "* Informe o código do medicamento mais usado: sem fazer uso de VIEW."
   ]
  },
  {
   "cell_type": "code",
   "execution_count": 16,
   "metadata": {},
   "outputs": [
    {
     "data": {
      "text/plain": [
       "d00732"
      ]
     },
     "execution_count": 16,
     "metadata": {},
     "output_type": "execute_result"
    }
   ],
   "source": [
    "SELECT Med.Codigo\n",
    "FROM Medicamento Med, UsoMedicamento Uso, Pessoa\n",
    "WHERE Med.Codigo = Uso.CodMedicamento AND Pessoa.Id = Uso.IdPessoa \n",
    "GROUP BY Med.Codigo\n",
    "HAVING COUNT(*) = SELECT MAX(qtdTratados) FROM (SELECT Med.Codigo, COUNT(*) AS qtdTratados\n",
    "FROM Medicamento Med, UsoMedicamento Uso, Pessoa\n",
    "WHERE Med.Codigo = Uso.CodMedicamento AND Pessoa.Id = Uso.IdPessoa \n",
    "GROUP BY Med.Codigo)"
   ]
  },
  {
   "cell_type": "markdown",
   "metadata": {},
   "source": [
    "## 4) Nome do medicamento mais usado\n",
    "* Informe o nome do medicamento mais usado (uso de VIEW é opcional)."
   ]
  },
  {
   "cell_type": "code",
   "execution_count": 38,
   "metadata": {},
   "outputs": [
    {
     "data": {
      "text/plain": [
       "LISINOPRIL"
      ]
     },
     "execution_count": 38,
     "metadata": {},
     "output_type": "execute_result"
    }
   ],
   "source": [
    "CREATE VIEW IF NOT EXISTS EXEMPLO2 AS (\n",
    "SELECT Med.NomeMedicamento, COUNT(*) AS qtdTratados\n",
    "FROM Medicamento Med, UsoMedicamento Uso, Pessoa\n",
    "WHERE Med.Codigo = Uso.CodMedicamento AND Pessoa.Id = Uso.IdPessoa\n",
    "GROUP BY Med.NomeMedicamento);\n",
    "\n",
    "\n",
    "SELECT Exemplo2.NomeMedicamento\n",
    "FROM EXEMPLO2\n",
    "WHERE Exemplo2.QtdTratados = (SELECT MAX(Exemplo2.QtdTratados) FROM EXEMPLO2);"
   ]
  },
  {
   "cell_type": "markdown",
   "metadata": {},
   "source": [
    "## 5) Contabilizando quanto as pessoas usam de medicamento\n",
    "\n",
    "* Informe o número médio de uso de medicamento por pessoa."
   ]
  },
  {
   "cell_type": "code",
   "execution_count": 25,
   "metadata": {},
   "outputs": [
    {
     "data": {
      "text/plain": [
       "3"
      ]
     },
     "execution_count": 25,
     "metadata": {},
     "output_type": "execute_result"
    }
   ],
   "source": [
    "SELECT AVG(NumMedicado)\n",
    "FROM (SELECT Pessoa.Id, COUNT(*) AS NumMedicado\n",
    "FROM Medicamento Med, UsoMedicamento Uso, Pessoa \n",
    "WHERE Med.Codigo = Uso.CodMedicamento AND Pessoa.Id = Uso.IdPessoa \n",
    "GROUP BY Pessoa.Id)"
   ]
  },
  {
   "cell_type": "markdown",
   "metadata": {},
   "source": [
    "## 6) Pessoas que usam mais do que a média\n",
    "\n",
    "* Liste o id das pessoas que usam mais medicamentos do que a média."
   ]
  },
  {
   "cell_type": "code",
   "execution_count": 44,
   "metadata": {},
   "outputs": [
    {
     "data": {
      "application/vnd.jupyter.widget-view+json": {
       "model_id": "ff7183ac-df51-4dd3-bb73-aa5fd2e30e7c",
       "version_major": 2,
       "version_minor": 0
      },
      "method": "display_data"
     },
     "metadata": {},
     "output_type": "display_data"
    }
   ],
   "source": [
    "SELECT NumMedicado\n",
    "FROM (SELECT Pessoa.Id, COUNT(*) AS NumMedicado\n",
    "FROM Medicamento Med, UsoMedicamento Uso, Pessoa \n",
    "WHERE Med.Codigo = Uso.CodMedicamento AND Pessoa.Id = Uso.IdPessoa \n",
    "GROUP BY Pessoa.Id)\n",
    "WHERE NumMedicado > (SELECT AVG(NumMedicado)\n",
    "FROM (SELECT Pessoa.Id, COUNT(*) AS NumMedicado\n",
    "FROM Medicamento Med, UsoMedicamento Uso, Pessoa \n",
    "WHERE Med.Codigo = Uso.CodMedicamento AND Pessoa.Id = Uso.IdPessoa \n",
    "GROUP BY Pessoa.Id));"
   ]
  },
  {
   "cell_type": "markdown",
   "metadata": {},
   "source": [
    "## 7) Análise do uso de medicamento\n",
    "\n",
    "* Considere que um médico quer fazer responder a seguinte questão: pessoas tendem a usar mais medicamentos conforme ficam \n",
    "mais velhas?\n",
    "* Escreva uma query que ajude o médico a realizar esta análise."
   ]
  },
  {
   "cell_type": "code",
   "execution_count": 55,
   "metadata": {},
   "outputs": [
    {
     "data": {
      "text/plain": [
       "5"
      ]
     },
     "execution_count": 55,
     "metadata": {},
     "output_type": "execute_result"
    }
   ],
   "source": [
    "--QUERY IDOSO   \n",
    "SELECT AVG(NumMedicado)\n",
    "    FROM (SELECT Pessoa.Id, COUNT(*) as NumMedicado FROM Pessoa, UsoMedicamento as Uso, Medicamento as Med \n",
    "    WHERE Uso.IdPessoa = Pessoa.Id AND Med.Codigo = Uso.CodMedicamento AND Pessoa.Idade > 65\n",
    "    GROUP BY Pessoa.Id);\n",
    "\n",
    "--QUERY ADULTO   \n",
    "    SELECT AVG(NumMedicado)\n",
    "    FROM (SELECT Pessoa.Id, COUNT(*) as NumMedicado FROM Pessoa, UsoMedicamento as Uso, Medicamento as Med \n",
    "    WHERE Uso.IdPessoa = Pessoa.Id AND Med.Codigo = Uso.CodMedicamento AND Pessoa.Idade < 65\n",
    "    GROUP BY Pessoa.Id);"
   ]
  },
  {
   "cell_type": "markdown",
   "metadata": {},
   "source": [
    "# II. Análise de correlação em pares\n",
    "## Estudo de ação cruzada entre medicamentos\n",
    "\n",
    "* Um pesquisador quer estudar o efeito cruzado de usar dois medicamentos simultaneamente. \n",
    "* Para isso ele precisará da seguinte sequência de queries."
   ]
  },
  {
   "cell_type": "markdown",
   "metadata": {},
   "source": [
    "## 8) Medicamentos tomados em conjunto\n",
    "* Construa uma VIEW com duas colunas: medicamentoA, medicamentoB\n",
    "* Nessa VIEW, é criada uma tupla (medicamentoA, medicamentoB) toda vez que uma pessoa toma o medicamento A e também o medicamento B.\n",
    "* Haverá repetição de tuplas, já que mais de uma pessoa pode tomar o mesmo par de medicamentos.\n",
    "* Cuidado para não duplicar a mesma informação, ou seja, considerando que uma pessoa tomou o medicamentoX e o medicamentoY, cuidado para não criar duas tuplas: (medicamentoX, medicamentoY) e (medicamentoY, medicamentoX)."
   ]
  },
  {
   "cell_type": "code",
   "execution_count": null,
   "metadata": {},
   "outputs": [],
   "source": []
  },
  {
   "cell_type": "markdown",
   "metadata": {},
   "source": [
    "## 9) Total de medicamento tomados em conjunto\n",
    "* Apresente o total de pessoas que toma cada par de medicamentos."
   ]
  },
  {
   "cell_type": "code",
   "execution_count": null,
   "metadata": {},
   "outputs": [],
   "source": []
  },
  {
   "cell_type": "markdown",
   "metadata": {},
   "source": [
    "# III. Análise de correlação entre variáveis\n",
    "* Consiste na análise da seguinte questão: como a alteração de uma variável afeta a outra.\n",
    "## Matriz de análise\n",
    "* Considere a matriz abaixo."
   ]
  },
  {
   "cell_type": "code",
   "execution_count": null,
   "metadata": {},
   "outputs": [],
   "source": [
    "CREATE TABLE Matriz (\n",
    "  Id VARCHAR(5) NOT NULL,\n",
    "  Genero INTEGER,\n",
    "  Idade INTEGER,\n",
    "  IdadeAte60 BOOLEAN,\n",
    "  MaisUmAnoMedicamento BOOLEAN,\n",
    "  MedicamentosAcimaMedia BOOLEAN,\n",
    "  PRIMARY KEY(Id)\n",
    ") AS SELECT\n",
    "    Id,\n",
    "    Genero,\n",
    "    Idade,\n",
    "    FALSE, FALSE, FALSE\n",
    "FROM CSVREAD('../data/nhanes/demographic-person.csv');\n",
    "\n",
    "SELECT * FROM Matriz;"
   ]
  },
  {
   "cell_type": "markdown",
   "metadata": {},
   "source": [
    "## 10) Atualização simples da matriz\n",
    "* Utilize o comando UPDATE para atualizar a coluna IdadeAte60 da tabela colocando verdadeiro para as pessoas que têm até 60 anos de idade."
   ]
  },
  {
   "cell_type": "code",
   "execution_count": null,
   "metadata": {},
   "outputs": [],
   "source": []
  },
  {
   "cell_type": "markdown",
   "metadata": {},
   "source": [
    "## 11) Atualização vinculada a uma segunda tabela\n",
    "* Utilize o comando UPDATE para atualizar a coluna MaisUmAnoMedicamento, colocando verdadeiro para aquelas pessoas que usam pelo menos um medicamento há mais de um ano."
   ]
  },
  {
   "cell_type": "code",
   "execution_count": null,
   "metadata": {},
   "outputs": [],
   "source": []
  },
  {
   "cell_type": "markdown",
   "metadata": {},
   "source": [
    "## 12) Atualização baseada em uma consulta complexa\n",
    "* Utilize o comando UPDATE para atualizar a coluna MedicamentosAcimaMedia, colocando verdadeiro para aquelas pessoas que usam um número de medicamentos acima da média."
   ]
  },
  {
   "cell_type": "code",
   "execution_count": null,
   "metadata": {},
   "outputs": [],
   "source": []
  },
  {
   "cell_type": "markdown",
   "metadata": {},
   "source": [
    "## 13) Que análise interessante pode ser feita?\n",
    "* A partir da Matriz criada, proponha uma análise interessante."
   ]
  },
  {
   "cell_type": "markdown",
   "metadata": {},
   "source": [
    "### 13a) Descreva a seguir (em Markdown) qual a análise que você propõe."
   ]
  },
  {
   "cell_type": "code",
   "execution_count": null,
   "metadata": {},
   "outputs": [],
   "source": []
  },
  {
   "cell_type": "markdown",
   "metadata": {},
   "source": [
    "### 13b) Escreva uma consulta em SQL que fornece informações para a análise proposta."
   ]
  },
  {
   "cell_type": "code",
   "execution_count": null,
   "metadata": {},
   "outputs": [],
   "source": []
  }
 ],
 "metadata": {
  "kernelspec": {
   "display_name": "SQL",
   "language": "SQL",
   "name": "sql"
  },
  "language_info": {
   "codemirror_mode": "sql",
   "file_extension": ".sql",
   "mimetype": "",
   "name": "SQL",
   "nbconverter_exporter": "",
   "version": ""
  },
  "toc": {
   "base_numbering": 1,
   "nav_menu": {},
   "number_sections": false,
   "sideBar": false,
   "skip_h1_title": false,
   "title_cell": "Table of Contents",
   "title_sidebar": "Contents",
   "toc_cell": false,
   "toc_position": {},
   "toc_section_display": false,
   "toc_window_display": false
  }
 },
 "nbformat": 4,
 "nbformat_minor": 2
}
