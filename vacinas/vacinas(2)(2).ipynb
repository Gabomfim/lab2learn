{
 "cells": [
  {
   "cell_type": "code",
   "execution_count": 2,
   "metadata": {},
   "outputs": [],
   "source": [
    "%defaultDatasource jdbc:h2:mem:db"
   ]
  },
  {
   "cell_type": "markdown",
   "metadata": {},
   "source": [
    "# Analisando o Uso de Medicamentos\n",
    "* Esta tarefa analisará os dados conforme três abordagens: análise do comportamento estatístico; análise de correlação entre pares; análise de correlação de variáveis.\n",
    "* A partir dos arquivos CSV que estão no diretórios /data/nhanes considere as seguintes tabelas SQL."
   ]
  },
  {
   "cell_type": "code",
   "execution_count": 35,
   "metadata": {},
   "outputs": [],
   "source": [
    "DROP VIEW IF EXISTS Medias_Vacinas;\n",
    "DROP VIEW IF EXISTS Medias_Antivax;\n",
    "DROP TABLE IF EXISTS Antivax_Trends;\n",
    "DROP TABLE IF EXISTS Immunization_Estimates;\n",
    "\n",
    "\n",
    "CREATE TABLE Antivax_Trends (\n",
    "    Periodo VARCHAR,\n",
    "    Antivax INTEGER,\n",
    "    Vacina_Causa_Autismo INTEGER,\n",
    "    Anti_vacina INTEGER,\n",
    "    Anti_vacinacao INTEGER,\n",
    "    Soma INTEGER,\n",
    "    Popularidade INTEGER,\n",
    "    PRIMARY KEY(Periodo)\n",
    ") AS SELECT\n",
    "    Periodo,\n",
    "    Antivax,\n",
    "    Vacina_Causa_Autismo,\n",
    "    Anti_vacina,\n",
    "    Anti_vacinacao,\n",
    "    Soma,\n",
    "    Popularidade\n",
    "FROM CSVREAD('../data/vacinas/trends-antivax.csv');\n",
    "\n",
    "CREATE TABLE Immunization_Estimates (\n",
    "    Id INTEGER NOT NULL,\n",
    "    --unicef_region VARCHAR,\n",
    "    --iso3 VARCHAR,\n",
    "    --country VARCHAR,\n",
    "    vaccine VARCHAR,\n",
    "    Ano INTEGER,\n",
    "    Taxa INTEGER,\n",
    "    PRIMARY KEY(Id)\n",
    ")AS SELECT\n",
    "    Id,\n",
    "    --Unicef_region,\n",
    "    --Iso3,\n",
    "    --Country,\n",
    "    Vaccine,\n",
    "    Ano,\n",
    "    Taxa\n",
    "FROM CSVREAD('../data/vacinas/Immunization-estimates-2018-Brasil.csv')\n"
   ]
  },
  {
   "cell_type": "code",
   "execution_count": 36,
   "metadata": {},
   "outputs": [
    {
     "data": {
      "application/vnd.jupyter.widget-view+json": {
       "model_id": "68b3dec0-90de-490f-8eeb-1554c26406d3",
       "version_major": 2,
       "version_minor": 0
      },
      "method": "display_data"
     },
     "metadata": {},
     "output_type": "display_data"
    },
    {
     "data": {
      "application/vnd.jupyter.widget-view+json": {
       "model_id": "ac5f7504-1bc7-48f2-866a-0e5c7950652d",
       "version_major": 2,
       "version_minor": 0
      },
      "method": "display_data"
     },
     "metadata": {},
     "output_type": "display_data"
    }
   ],
   "source": [
    "SELECT * FROM Antivax_Trends;\n",
    "SELECT * FROM Immunization_Estimates;"
   ]
  },
  {
   "cell_type": "markdown",
   "metadata": {},
   "source": [
    "# I. Análise de comportamento estatístico"
   ]
  },
  {
   "cell_type": "markdown",
   "metadata": {},
   "source": [
    "## 1) Contabilizando o uso de medicamentos\n",
    "\n",
    "* Liste o nome de todos os medicamentos e a quantidade de pessoas que usa cada um deles."
   ]
  },
  {
   "cell_type": "code",
   "execution_count": 37,
   "metadata": {},
   "outputs": [
    {
     "data": {
      "application/vnd.jupyter.widget-view+json": {
       "model_id": "ec3a18af-f5dd-495c-b764-e113fdd59b23",
       "version_major": 2,
       "version_minor": 0
      },
      "method": "display_data"
     },
     "metadata": {},
     "output_type": "display_data"
    },
    {
     "data": {
      "application/vnd.jupyter.widget-view+json": {
       "model_id": "53bdc84f-539e-4b44-aafd-e257928b4af3",
       "version_major": 2,
       "version_minor": 0
      },
      "method": "display_data"
     },
     "metadata": {},
     "output_type": "display_data"
    }
   ],
   "source": [
    "DROP VIEW IF EXISTS Medias_Vacinas;\n",
    "DROP VIEW IF EXISTS Medias_Antivax;\n",
    "\n",
    "CREATE VIEW Medias_Vacinas AS \n",
    "    SELECT vaccine, AVG(Immunization_Estimates.Taxa) Media_taxa\n",
    "    FROM Immunization_Estimates\n",
    "    GROUP BY vaccine;\n",
    "\n",
    "CREATE VIEW Medias_Antivax AS\n",
    "    SELECT AVG(Antivax) Media_Antivax, AVG(Vacina_Causa_Autismo) Media_Vacina_Causa_Autismo, AVG(Anti_vacina) Media_Anti_Vacina, AVG(Anti_vacinacao) Media_Anti_Vacinacao\n",
    "    FROM Antivax_Trends;\n",
    "    \n",
    "SELECT * FROM Medias_Vacinas;\n",
    "SELECT * FROM Medias_Antivax;"
   ]
  },
  {
   "cell_type": "markdown",
   "metadata": {},
   "source": [
    "## 2) Medicamento mais usado com VIEW\n",
    "\n",
    "* Informe o código do medicamento mais usado: fazendo uso de VIEW."
   ]
  },
  {
   "cell_type": "code",
   "execution_count": 45,
   "metadata": {},
   "outputs": [
    {
     "data": {
      "application/vnd.jupyter.widget-view+json": {
       "model_id": "9bad95c9-04a2-4349-a6ba-896f4ca7b53b",
       "version_major": 2,
       "version_minor": 0
      },
      "method": "display_data"
     },
     "metadata": {},
     "output_type": "display_data"
    }
   ],
   "source": [
    "Select Ano Anos_Acima_Da_Media, Immunization_Estimates.vaccine\n",
    "    From Medias_Vacinas, Immunization_Estimates\n",
    "    Where Immunization_Estimates.Taxa > Medias_Vacinas.Media_taxa\n",
    "    Group By Immunization_Estimates.vaccine, Ano"
   ]
  },
  {
   "cell_type": "markdown",
   "metadata": {},
   "source": [
    "## 3) Medicamento mais usado sem VIEW\n",
    "\n",
    "* Informe o código do medicamento mais usado: sem fazer uso de VIEW."
   ]
  },
  {
   "cell_type": "code",
   "execution_count": 16,
   "metadata": {},
   "outputs": [
    {
     "data": {
      "text/plain": [
       "d00732"
      ]
     },
     "execution_count": 16,
     "metadata": {},
     "output_type": "execute_result"
    }
   ],
   "source": [
    "Select Periodo "
   ]
  },
  {
   "cell_type": "markdown",
   "metadata": {},
   "source": [
    "## 4) Nome do medicamento mais usado\n",
    "* Informe o nome do medicamento mais usado (uso de VIEW é opcional)."
   ]
  },
  {
   "cell_type": "code",
   "execution_count": 38,
   "metadata": {},
   "outputs": [
    {
     "data": {
      "text/plain": [
       "LISINOPRIL"
      ]
     },
     "execution_count": 38,
     "metadata": {},
     "output_type": "execute_result"
    }
   ],
   "source": [
    "CREATE VIEW IF NOT EXISTS EXEMPLO2 AS (\n",
    "SELECT Med.NomeMedicamento, COUNT(*) AS qtdTratados\n",
    "FROM Medicamento Med, UsoMedicamento Uso, Pessoa\n",
    "WHERE Med.Codigo = Uso.CodMedicamento AND Pessoa.Id = Uso.IdPessoa\n",
    "GROUP BY Med.NomeMedicamento);\n",
    "\n",
    "\n",
    "SELECT Exemplo2.NomeMedicamento\n",
    "FROM EXEMPLO2\n",
    "WHERE Exemplo2.QtdTratados = (SELECT MAX(Exemplo2.QtdTratados) FROM EXEMPLO2);"
   ]
  },
  {
   "cell_type": "markdown",
   "metadata": {},
   "source": [
    "## 5) Contabilizando quanto as pessoas usam de medicamento\n",
    "\n",
    "* Informe o número médio de uso de medicamento por pessoa."
   ]
  },
  {
   "cell_type": "code",
   "execution_count": 25,
   "metadata": {},
   "outputs": [
    {
     "data": {
      "text/plain": [
       "3"
      ]
     },
     "execution_count": 25,
     "metadata": {},
     "output_type": "execute_result"
    }
   ],
   "source": [
    "SELECT AVG(NumMedicado)\n",
    "FROM (SELECT Pessoa.Id, COUNT(*) AS NumMedicado\n",
    "FROM Medicamento Med, UsoMedicamento Uso, Pessoa \n",
    "WHERE Med.Codigo = Uso.CodMedicamento AND Pessoa.Id = Uso.IdPessoa \n",
    "GROUP BY Pessoa.Id)"
   ]
  },
  {
   "cell_type": "markdown",
   "metadata": {},
   "source": [
    "## 6) Pessoas que usam mais do que a média\n",
    "\n",
    "* Liste o id das pessoas que usam mais medicamentos do que a média."
   ]
  },
  {
   "cell_type": "code",
   "execution_count": 44,
   "metadata": {},
   "outputs": [
    {
     "data": {
      "application/vnd.jupyter.widget-view+json": {
       "model_id": "ff7183ac-df51-4dd3-bb73-aa5fd2e30e7c",
       "version_major": 2,
       "version_minor": 0
      },
      "method": "display_data"
     },
     "metadata": {},
     "output_type": "display_data"
    }
   ],
   "source": [
    "SELECT NumMedicado\n",
    "FROM (SELECT Pessoa.Id, COUNT(*) AS NumMedicado\n",
    "FROM Medicamento Med, UsoMedicamento Uso, Pessoa \n",
    "WHERE Med.Codigo = Uso.CodMedicamento AND Pessoa.Id = Uso.IdPessoa \n",
    "GROUP BY Pessoa.Id)\n",
    "WHERE NumMedicado > (SELECT AVG(NumMedicado)\n",
    "FROM (SELECT Pessoa.Id, COUNT(*) AS NumMedicado\n",
    "FROM Medicamento Med, UsoMedicamento Uso, Pessoa \n",
    "WHERE Med.Codigo = Uso.CodMedicamento AND Pessoa.Id = Uso.IdPessoa \n",
    "GROUP BY Pessoa.Id));"
   ]
  },
  {
   "cell_type": "markdown",
   "metadata": {},
   "source": [
    "## 7) Análise do uso de medicamento\n",
    "\n",
    "* Considere que um médico quer fazer responder a seguinte questão: pessoas tendem a usar mais medicamentos conforme ficam \n",
    "mais velhas?\n",
    "* Escreva uma query que ajude o médico a realizar esta análise."
   ]
  },
  {
   "cell_type": "code",
   "execution_count": 55,
   "metadata": {},
   "outputs": [
    {
     "data": {
      "text/plain": [
       "5"
      ]
     },
     "execution_count": 55,
     "metadata": {},
     "output_type": "execute_result"
    }
   ],
   "source": [
    "--QUERY IDOSO   \n",
    "SELECT AVG(NumMedicado)\n",
    "    FROM (SELECT Pessoa.Id, COUNT(*) as NumMedicado FROM Pessoa, UsoMedicamento as Uso, Medicamento as Med \n",
    "    WHERE Uso.IdPessoa = Pessoa.Id AND Med.Codigo = Uso.CodMedicamento AND Pessoa.Idade > 65\n",
    "    GROUP BY Pessoa.Id);\n",
    "\n",
    "--QUERY ADULTO   \n",
    "    SELECT AVG(NumMedicado)\n",
    "    FROM (SELECT Pessoa.Id, COUNT(*) as NumMedicado FROM Pessoa, UsoMedicamento as Uso, Medicamento as Med \n",
    "    WHERE Uso.IdPessoa = Pessoa.Id AND Med.Codigo = Uso.CodMedicamento AND Pessoa.Idade < 65\n",
    "    GROUP BY Pessoa.Id);"
   ]
  },
  {
   "cell_type": "markdown",
   "metadata": {},
   "source": [
    "# II. Análise de correlação em pares\n",
    "## Estudo de ação cruzada entre medicamentos\n",
    "\n",
    "* Um pesquisador quer estudar o efeito cruzado de usar dois medicamentos simultaneamente. \n",
    "* Para isso ele precisará da seguinte sequência de queries."
   ]
  },
  {
   "cell_type": "markdown",
   "metadata": {},
   "source": [
    "## 8) Medicamentos tomados em conjunto\n",
    "* Construa uma VIEW com duas colunas: medicamentoA, medicamentoB\n",
    "* Nessa VIEW, é criada uma tupla (medicamentoA, medicamentoB) toda vez que uma pessoa toma o medicamento A e também o medicamento B.\n",
    "* Haverá repetição de tuplas, já que mais de uma pessoa pode tomar o mesmo par de medicamentos.\n",
    "* Cuidado para não duplicar a mesma informação, ou seja, considerando que uma pessoa tomou o medicamentoX e o medicamentoY, cuidado para não criar duas tuplas: (medicamentoX, medicamentoY) e (medicamentoY, medicamentoX)."
   ]
  },
  {
   "cell_type": "code",
   "execution_count": null,
   "metadata": {},
   "outputs": [],
   "source": []
  },
  {
   "cell_type": "markdown",
   "metadata": {},
   "source": [
    "## 9) Total de medicamento tomados em conjunto\n",
    "* Apresente o total de pessoas que toma cada par de medicamentos."
   ]
  },
  {
   "cell_type": "code",
   "execution_count": null,
   "metadata": {},
   "outputs": [],
   "source": []
  },
  {
   "cell_type": "markdown",
   "metadata": {},
   "source": [
    "# III. Análise de correlação entre variáveis\n",
    "* Consiste na análise da seguinte questão: como a alteração de uma variável afeta a outra.\n",
    "## Matriz de análise\n",
    "* Considere a matriz abaixo."
   ]
  },
  {
   "cell_type": "code",
   "execution_count": null,
   "metadata": {},
   "outputs": [],
   "source": [
    "CREATE TABLE Matriz (\n",
    "  Id VARCHAR(5) NOT NULL,\n",
    "  Genero INTEGER,\n",
    "  Idade INTEGER,\n",
    "  IdadeAte60 BOOLEAN,\n",
    "  MaisUmAnoMedicamento BOOLEAN,\n",
    "  MedicamentosAcimaMedia BOOLEAN,\n",
    "  PRIMARY KEY(Id)\n",
    ") AS SELECT\n",
    "    Id,\n",
    "    Genero,\n",
    "    Idade,\n",
    "    FALSE, FALSE, FALSE\n",
    "FROM CSVREAD('../data/nhanes/demographic-person.csv');\n",
    "\n",
    "SELECT * FROM Matriz;"
   ]
  },
  {
   "cell_type": "markdown",
   "metadata": {},
   "source": [
    "## 10) Atualização simples da matriz\n",
    "* Utilize o comando UPDATE para atualizar a coluna IdadeAte60 da tabela colocando verdadeiro para as pessoas que têm até 60 anos de idade."
   ]
  },
  {
   "cell_type": "code",
   "execution_count": null,
   "metadata": {},
   "outputs": [],
   "source": []
  },
  {
   "cell_type": "markdown",
   "metadata": {},
   "source": [
    "## 11) Atualização vinculada a uma segunda tabela\n",
    "* Utilize o comando UPDATE para atualizar a coluna MaisUmAnoMedicamento, colocando verdadeiro para aquelas pessoas que usam pelo menos um medicamento há mais de um ano."
   ]
  },
  {
   "cell_type": "code",
   "execution_count": null,
   "metadata": {},
   "outputs": [],
   "source": []
  },
  {
   "cell_type": "markdown",
   "metadata": {},
   "source": [
    "## 12) Atualização baseada em uma consulta complexa\n",
    "* Utilize o comando UPDATE para atualizar a coluna MedicamentosAcimaMedia, colocando verdadeiro para aquelas pessoas que usam um número de medicamentos acima da média."
   ]
  },
  {
   "cell_type": "code",
   "execution_count": null,
   "metadata": {},
   "outputs": [],
   "source": []
  },
  {
   "cell_type": "markdown",
   "metadata": {},
   "source": [
    "## 13) Que análise interessante pode ser feita?\n",
    "* A partir da Matriz criada, proponha uma análise interessante."
   ]
  },
  {
   "cell_type": "markdown",
   "metadata": {},
   "source": [
    "### 13a) Descreva a seguir (em Markdown) qual a análise que você propõe."
   ]
  },
  {
   "cell_type": "code",
   "execution_count": null,
   "metadata": {},
   "outputs": [],
   "source": []
  },
  {
   "cell_type": "markdown",
   "metadata": {},
   "source": [
    "### 13b) Escreva uma consulta em SQL que fornece informações para a análise proposta."
   ]
  },
  {
   "cell_type": "code",
   "execution_count": null,
   "metadata": {},
   "outputs": [],
   "source": []
  }
 ],
 "metadata": {
  "kernelspec": {
   "display_name": "SQL",
   "language": "SQL",
   "name": "sql"
  },
  "language_info": {
   "codemirror_mode": "sql",
   "file_extension": ".sql",
   "mimetype": "",
   "name": "SQL",
   "nbconverter_exporter": "",
   "version": ""
  },
  "toc": {
   "base_numbering": 1,
   "nav_menu": {},
   "number_sections": false,
   "sideBar": false,
   "skip_h1_title": false,
   "title_cell": "Table of Contents",
   "title_sidebar": "Contents",
   "toc_cell": false,
   "toc_position": {},
   "toc_section_display": false,
   "toc_window_display": false
  }
 },
 "nbformat": 4,
 "nbformat_minor": 2
}
